{
 "cells": [
  {
   "cell_type": "markdown",
   "id": "2f93701c",
   "metadata": {},
   "source": [
    "                                1. List Operations and Basic Statistics:"
   ]
  },
  {
   "cell_type": "code",
   "execution_count": 3,
   "id": "9cb4e20a",
   "metadata": {},
   "outputs": [
    {
     "name": "stdout",
     "output_type": "stream",
     "text": [
      "[1, 2, 3, 4, 5, 6, 7, 8, 9, 10, 11, 12, 13, 14, 15, 16, 17, 18, 19, 20]\n",
      "110\n",
      "654729075\n",
      "10.5\n",
      "10.5\n",
      "5.766281297335398\n"
     ]
    }
   ],
   "source": [
    "numbers = []\n",
    "for i in range(1,21):\n",
    "    numbers += [i]\n",
    "print(numbers)              #part 1\n",
    "\n",
    "even = []\n",
    "odd = []\n",
    "for num in numbers:\n",
    "    if num%2 == 0:\n",
    "        even = even + [num]\n",
    "    else:\n",
    "        odd = odd + [num]\n",
    "\n",
    "print(sum(even))            #part2\n",
    "\n",
    "product = 1\n",
    "\n",
    "for i in odd:\n",
    "    product = product * i\n",
    "\n",
    "print(product)              #part3\n",
    "\n",
    "mean = sum(numbers)/20\n",
    "\n",
    "print(mean)                 #part4\n",
    "\n",
    "median = (numbers[(int(len(numbers)/2)) - 1] + numbers[int(len(numbers)/2)]) / 2\n",
    "\n",
    "print(median)               #part5\n",
    "\n",
    "# for standard deviation\n",
    "\n",
    "#Step 1 : Subtract the mean from each number and then square its result. Find the sum of all the results.\n",
    "sum = 0\n",
    "for i in numbers:\n",
    "    sum += (i-mean)**2\n",
    "\n",
    "#Step 2 : Divide the sum by total numbers in the numbers list\n",
    "\n",
    "b = sum/len(numbers)\n",
    "\n",
    "#Step 3: Find the standard deviation by taking square root\n",
    "\n",
    "standard_deviation = (b)**(1/2)\n",
    "\n",
    "print(standard_deviation)           #part6"
   ]
  },
  {
   "cell_type": "markdown",
   "id": "8e3bf95b",
   "metadata": {},
   "source": [
    "                                2. Mutable vs. Immutable Data Types:"
   ]
  },
  {
   "cell_type": "markdown",
   "id": "4485a7ca",
   "metadata": {},
   "source": [
    "int, float, complex, string, list, tuple, dict and bool are the standard data types in python. \n",
    "Mutable Data Types - list, dict, set. They can be modified.\n",
    "\n",
    "Immutable Data Tyapes - int, float, complex, string, tuple, bool. They cannot be modified."
   ]
  },
  {
   "cell_type": "code",
   "execution_count": 20,
   "id": "0598c621",
   "metadata": {},
   "outputs": [
    {
     "ename": "TypeError",
     "evalue": "'str' object does not support item assignment",
     "output_type": "error",
     "traceback": [
      "\u001b[1;31m---------------------------------------------------------------------------\u001b[0m",
      "\u001b[1;31mTypeError\u001b[0m                                 Traceback (most recent call last)",
      "Cell \u001b[1;32mIn[20], line 2\u001b[0m\n\u001b[0;32m      1\u001b[0m s \u001b[38;5;241m=\u001b[39m \u001b[38;5;124m\"\u001b[39m\u001b[38;5;124mNeha\u001b[39m\u001b[38;5;124m\"\u001b[39m \n\u001b[1;32m----> 2\u001b[0m s[\u001b[38;5;241m1\u001b[39m] \u001b[38;5;241m=\u001b[39m \u001b[38;5;124m\"\u001b[39m\u001b[38;5;124mo\u001b[39m\u001b[38;5;124m\"\u001b[39m\n\u001b[0;32m      3\u001b[0m \u001b[38;5;28mprint\u001b[39m(s)\n",
      "\u001b[1;31mTypeError\u001b[0m: 'str' object does not support item assignment"
     ]
    }
   ],
   "source": [
    "s = \"Neha\" \n",
    "s[1] = \"o\"\n",
    "print(s)"
   ]
  },
  {
   "cell_type": "code",
   "execution_count": 21,
   "id": "b3c0b907",
   "metadata": {},
   "outputs": [
    {
     "name": "stdout",
     "output_type": "stream",
     "text": [
      "[1, 9, 3, 4, 5]\n"
     ]
    }
   ],
   "source": [
    "l = [1,2,3,4,5]\n",
    "l[1] = 9\n",
    "print(l)"
   ]
  },
  {
   "cell_type": "markdown",
   "id": "08b937c6",
   "metadata": {},
   "source": [
    "                                3. Fibonacci Sequence:"
   ]
  },
  {
   "cell_type": "code",
   "execution_count": 4,
   "id": "3d35db07",
   "metadata": {},
   "outputs": [
    {
     "name": "stdin",
     "output_type": "stream",
     "text": [
      " 20\n"
     ]
    },
    {
     "name": "stdout",
     "output_type": "stream",
     "text": [
      "[0, 1, 1, 2, 3, 5, 8, 13, 21, 34, 55, 89, 144, 233, 377, 610, 987, 1597, 2584, 4181]\n"
     ]
    },
    {
     "data": {
      "image/png": "[encoded data removed]",
      "text/plain": [
       "<Figure size 640x480 with 1 Axes>"
      ]
     },
     "metadata": {},
     "output_type": "display_data"
    }
   ],
   "source": [
    "import matplotlib.pyplot as plt\n",
    "import numpy as np\n",
    "\n",
    "def fibonacci(k):\n",
    "    a = 0\n",
    "    b = 1\n",
    "    \n",
    "    list = [a , b]\n",
    "    \n",
    "    c = 0\n",
    "    \n",
    "    while (k-2) != 0:\n",
    "        c = a + b\n",
    "        a = b\n",
    "        b = c\n",
    "        k = k-1\n",
    "        list += [c]\n",
    "\n",
    "    return(list)\n",
    "\n",
    "\n",
    "n = int(input())\n",
    "print(fibonacci(n))\n",
    "\n",
    "my_array = []\n",
    "for i in range (1,n+1):\n",
    "    my_array += [i]\n",
    "# print(my_array)\n",
    "x = np.array(my_array)\n",
    "y = np.array(list)\n",
    "\n",
    "plt.plot(x,y)\n",
    "plt.xlabel(\"X-axis\")\n",
    "plt.xlabel(\"Y-axis\")\n",
    "plt.title(\"Fibonacci Sequence\")\n",
    "\n",
    "plt.show()"
   ]
  },
  {
   "cell_type": "markdown",
   "id": "5a92db59",
   "metadata": {},
   "source": [
    "                                4. List Manipulation:"
   ]
  },
  {
   "cell_type": "code",
   "execution_count": 1,
   "id": "035d2f1e",
   "metadata": {},
   "outputs": [
    {
     "name": "stdout",
     "output_type": "stream",
     "text": [
      "[3, 5, 7, 6, 9, 11, 13]\n"
     ]
    }
   ],
   "source": [
    "list = [3,5,7,9,11,13]\n",
    "new_list = list[:3] + [6] + list[3:]\n",
    "print(new_list)"
   ]
  },
  {
   "cell_type": "code",
   "execution_count": 2,
   "id": "64ae7f41",
   "metadata": {},
   "outputs": [
    {
     "name": "stdout",
     "output_type": "stream",
     "text": [
      "[3, 5, 6, 9, 11, 13]\n"
     ]
    }
   ],
   "source": [
    "new_list.remove(7)\n",
    "print(new_list)"
   ]
  },
  {
   "cell_type": "code",
   "execution_count": 3,
   "id": "5cdb8a02",
   "metadata": {},
   "outputs": [
    {
     "name": "stdout",
     "output_type": "stream",
     "text": [
      "[13, 11, 9, 6, 5, 3]\n"
     ]
    }
   ],
   "source": [
    "final_list = new_list[::-1]\n",
    "print(final_list)"
   ]
  },
  {
   "cell_type": "code",
   "execution_count": 4,
   "id": "193dfa7d",
   "metadata": {},
   "outputs": [
    {
     "name": "stdout",
     "output_type": "stream",
     "text": [
      "7.833333333333333\n"
     ]
    }
   ],
   "source": [
    "mean_list = sum(final_list)/len(final_list)\n",
    "print(mean_list)"
   ]
  },
  {
   "cell_type": "code",
   "execution_count": 6,
   "id": "aa9bbc9a",
   "metadata": {},
   "outputs": [
    {
     "name": "stdout",
     "output_type": "stream",
     "text": [
      "7.5\n"
     ]
    }
   ],
   "source": [
    "median_list = (final_list[int((len(final_list)/2)-1)] + final_list[int(len(final_list)/2)])/2\n",
    "print(median_list)"
   ]
  },
  {
   "cell_type": "markdown",
   "id": "2364dd8c",
   "metadata": {},
   "source": [
    "                                5. User Input and Basic Statistics:"
   ]
  },
  {
   "cell_type": "code",
   "execution_count": 19,
   "id": "d6baf944",
   "metadata": {},
   "outputs": [
    {
     "name": "stdin",
     "output_type": "stream",
     "text": [
      " 10,20,30,40\n"
     ]
    },
    {
     "name": "stdout",
     "output_type": "stream",
     "text": [
      "[10, 20, 30, 40]\n",
      "smallest number is 10\n",
      "largest number is 40\n"
     ]
    }
   ],
   "source": [
    "a = input().split(\",\")\n",
    "\n",
    "b = []\n",
    "\n",
    "for i in a:\n",
    "    i = int(i)\n",
    "    b = b + [i]\n",
    "print(b)\n",
    "mean = sum(b)/len(b)\n",
    "\n",
    "print(\"smallest number is \" + str(min(b)))\n",
    "\n",
    "print(\"largest number is \" + str(max(b)))"
   ]
  },
  {
   "cell_type": "code",
   "execution_count": 20,
   "id": "3166b481",
   "metadata": {},
   "outputs": [
    {
     "data": {
      "image/png": "[encoded data removed]",
      "text/plain": [
       "<Figure size 640x480 with 1 Axes>"
      ]
     },
     "metadata": {},
     "output_type": "display_data"
    }
   ],
   "source": [
    "import matplotlib.pyplot as plt\n",
    "\n",
    "plt.hist(b)\n",
    "plt.show()"
   ]
  },
  {
   "cell_type": "markdown",
   "id": "ab7f2650",
   "metadata": {},
   "source": [
    "                                6. Palindrome Check:"
   ]
  },
  {
   "cell_type": "code",
   "execution_count": 1,
   "id": "293885ba",
   "metadata": {},
   "outputs": [
    {
     "name": "stdin",
     "output_type": "stream",
     "text": [
      " A man a plan a canal Panama\n"
     ]
    },
    {
     "name": "stdout",
     "output_type": "stream",
     "text": [
      "True\n"
     ]
    }
   ],
   "source": [
    "s = input()\n",
    "\n",
    "a = s.replace(\" \",\"\").lower()\n",
    "\n",
    "if a == a[::-1]:\n",
    "    print(\"True\")\n",
    "else:\n",
    "    print(\"False\")"
   ]
  },
  {
   "cell_type": "markdown",
   "id": "2dc0ccef",
   "metadata": {},
   "source": [
    "                                7. Dictionary Operations:"
   ]
  },
  {
   "cell_type": "code",
   "execution_count": 2,
   "id": "8e295fa8",
   "metadata": {},
   "outputs": [
    {
     "name": "stdout",
     "output_type": "stream",
     "text": [
      "58.6\n",
      "Sneha Rohan "
     ]
    }
   ],
   "source": [
    "college = {\"Neha\":45, \"Sneha\":90, \"Rohan\": 70, \"Smit\": 32, \"Anamika\":56}\n",
    "\n",
    "marks = list(college.values())\n",
    "\n",
    "avg_marks = sum(marks)/len(marks)\n",
    "\n",
    "print(avg_marks)\n",
    "a = []\n",
    "for i in college.items():\n",
    "    c = list(i)\n",
    "    a.append(c)\n",
    "\n",
    "for i in a:\n",
    "    if i[1]>avg_marks:\n",
    "        print(i[0],end=\" \")"
   ]
  },
  {
   "cell_type": "code",
   "execution_count": 3,
   "id": "66d3e53a",
   "metadata": {},
   "outputs": [
    {
     "data": {
      "image/png": "[encoded data removed]",
      "text/plain": [
       "<Figure size 640x480 with 1 Axes>"
      ]
     },
     "metadata": {},
     "output_type": "display_data"
    }
   ],
   "source": [
    "import matplotlib.pyplot as plt\n",
    "import numpy as np\n",
    "\n",
    "plt.bar(college.keys(),college.values())\n",
    "plt.xlabel('Names of Students')\n",
    "plt.ylabel('Marks')\n",
    "plt.title('Distribution of Marks')\n",
    "plt.show()"
   ]
  },
  {
   "cell_type": "markdown",
   "id": "ee9bb209",
   "metadata": {},
   "source": [
    "                                8. Tuple List Creation:"
   ]
  },
  {
   "cell_type": "code",
   "execution_count": 4,
   "id": "130d84ff",
   "metadata": {},
   "outputs": [
    {
     "name": "stdout",
     "output_type": "stream",
     "text": [
      "[(1, 1), (2, 4), (3, 9), (4, 16), (5, 25), (6, 36), (7, 49), (8, 64), (9, 81), (10, 100)]\n"
     ]
    },
    {
     "data": {
      "image/png": "[encoded data removed]",
      "text/plain": [
       "<Figure size 640x480 with 1 Axes>"
      ]
     },
     "metadata": {},
     "output_type": "display_data"
    }
   ],
   "source": [
    "import matplotlib.pyplot as plt\n",
    "import numpy as np\n",
    "\n",
    "a = []\n",
    "\n",
    "for i in range(1,11):\n",
    "    a = a + [(i,i*i)]\n",
    "\n",
    "print(a)\n",
    "\n",
    "numbers = []\n",
    "squares = []\n",
    "\n",
    "for i in a:\n",
    "    numbers += [i[0]]\n",
    "    squares += [i[1]]\n",
    "\n",
    "plt.scatter(numbers,squares)\n",
    "plt.xlabel('Numbers')\n",
    "plt.ylabel('Squares')\n",
    "plt.show()"
   ]
  },
  {
   "cell_type": "markdown",
   "id": "d638278d",
   "metadata": {},
   "source": [
    "                                9. Merging Dictionaries:"
   ]
  },
  {
   "cell_type": "code",
   "execution_count": 1,
   "id": "5e6cdbc5",
   "metadata": {},
   "outputs": [
    {
     "name": "stdout",
     "output_type": "stream",
     "text": [
      "{'a': 10, 'b': 25, 'c': 15}\n"
     ]
    }
   ],
   "source": [
    "dict1 = {\"a\":10, \"b\":20}\n",
    "dict2 = {\"b\":5, \"c\":15}\n",
    "\n",
    "for i in dict2:\n",
    "    if i in dict1:\n",
    "        dict1[i] = dict1[i] + dict2[i]\n",
    "    else:\n",
    "        dict1.update({i:dict2[i]})\n",
    "\n",
    "print(dict1)"
   ]
  },
  {
   "cell_type": "markdown",
   "id": "2a208246",
   "metadata": {},
   "source": [
    "                                10. Character Frequency:"
   ]
  },
  {
   "cell_type": "code",
   "execution_count": 6,
   "id": "a9d41036",
   "metadata": {},
   "outputs": [
    {
     "name": "stdin",
     "output_type": "stream",
     "text": [
      " This is a laptop.\n"
     ]
    },
    {
     "name": "stdout",
     "output_type": "stream",
     "text": [
      "{'t': 2, 'h': 1, 'i': 2, 's': 2, ' ': 3, 'a': 2, 'l': 1, 'p': 2, 'o': 1, '.': 1}\n"
     ]
    },
    {
     "data": {
      "image/png": "[encoded data removed]",
      "text/plain": [
       "<Figure size 640x480 with 1 Axes>"
      ]
     },
     "metadata": {},
     "output_type": "display_data"
    }
   ],
   "source": [
    "import matplotlib.pyplot as plt\n",
    "import numpy as np\n",
    "\n",
    "def frequency(s):\n",
    "    a = s.lower()\n",
    "  \n",
    "    dict = {}\n",
    "    b = a\n",
    "    for i in a:\n",
    "        count = 0\n",
    "        \n",
    "        for j in b:\n",
    "            if i == j:\n",
    "                count += 1\n",
    "        \n",
    "        dict[i] = count\n",
    "        \n",
    "    return (dict)\n",
    "    \n",
    "ans = frequency(input())\n",
    "print(ans)\n",
    "\n",
    "plt.bar(ans.keys(),ans.values())\n",
    "plt.xlabel('Character')\n",
    "plt.ylabel('Frequency')\n",
    "plt.show()"
   ]
  },
  {
   "cell_type": "markdown",
   "id": "2130b79e",
   "metadata": {},
   "source": [
    "                                11. Remove Duplicates:"
   ]
  },
  {
   "cell_type": "code",
   "execution_count": 28,
   "id": "a12594ff",
   "metadata": {},
   "outputs": [
    {
     "name": "stdin",
     "output_type": "stream",
     "text": [
      " 10,20,30,40,50,10,20,10\n"
     ]
    },
    {
     "name": "stdout",
     "output_type": "stream",
     "text": [
      "[10, 20, 30, 40, 50]\n",
      "30.0\n",
      "30\n"
     ]
    }
   ],
   "source": [
    "list = input().split(\",\")\n",
    "\n",
    "new_list = []\n",
    "\n",
    "for i in list:\n",
    "    if i not in new_list:\n",
    "        new_list += [i]\n",
    "\n",
    "final_list = []\n",
    "for i in new_list:\n",
    "    i = int(i)\n",
    "    final_list += [i]\n",
    "print(final_list)\n",
    "\n",
    "mean = sum(final_list)/len(final_list)\n",
    "print(mean)\n",
    "\n",
    "if len(final_list)%2 == 0:\n",
    "    median = int(final_list[int((len(final_list)/2)-1)] + final_list[int(len(final_list)/2)])/2\n",
    "else:\n",
    "    median = int(final_list[(int(((len(final_list)+1))/2))-1])\n",
    "print(median)"
   ]
  },
  {
   "cell_type": "markdown",
   "id": "bb44eef7",
   "metadata": {},
   "source": [
    "                                12. String Operations:"
   ]
  },
  {
   "cell_type": "code",
   "execution_count": 36,
   "id": "95eb97a1",
   "metadata": {},
   "outputs": [
    {
     "name": "stdout",
     "output_type": "stream",
     "text": [
      "Nakshatra\n",
      "[4, 7, 5, 2, 9, 5]\n"
     ]
    }
   ],
   "source": [
    "import matplotlib.pyplot as plt\n",
    "import numpy as np\n",
    "\n",
    "s = [\"Neha\", \"Biscuit\", \"Sneha\", \"Om\", \"Nakshatra\",\"Rahul\"]\n",
    "\n",
    "max = 0 \n",
    "string = \"\"\n",
    "d = {}\n",
    "\n",
    "for i in s:\n",
    "    a = len(i)\n",
    "    d[i] = len(i)\n",
    "    if max < a:\n",
    "        max = a\n",
    "        string = i\n",
    "\n",
    "print(string)\n",
    "\n",
    "string_lengths = list(d.values())\n",
    "print(string_lengths)"
   ]
  },
  {
   "cell_type": "code",
   "execution_count": 37,
   "id": "83a61e48",
   "metadata": {},
   "outputs": [
    {
     "name": "stdout",
     "output_type": "stream",
     "text": [
      "1\n"
     ]
    }
   ],
   "source": [
    "count = 0\n",
    "vowels = [\"a\",\"e\",\"i\",\"o\",\"u\",\"A\",\"E\",\"I\",\"O\",\"U\"]\n",
    "for i in s:\n",
    "    if i[0] in vowels:\n",
    "        count += 1\n",
    "\n",
    "print(count)"
   ]
  },
  {
   "cell_type": "code",
   "execution_count": 38,
   "id": "d2ec2dd5",
   "metadata": {},
   "outputs": [
    {
     "data": {
      "image/png": "[encoded data removed]",
      "text/plain": [
       "<Figure size 640x480 with 1 Axes>"
      ]
     },
     "metadata": {},
     "output_type": "display_data"
    }
   ],
   "source": [
    "plt.hist(string_lengths)\n",
    "\n",
    "plt.show()"
   ]
  },
  {
   "cell_type": "markdown",
   "id": "1858d1d6",
   "metadata": {},
   "source": [
    "                                13. Sorting Dictionaries:"
   ]
  },
  {
   "cell_type": "code",
   "execution_count": 19,
   "id": "eadd7413",
   "metadata": {},
   "outputs": [
    {
     "name": "stdin",
     "output_type": "stream",
     "text": [
      " age\n"
     ]
    },
    {
     "name": "stdout",
     "output_type": "stream",
     "text": [
      "[{'name': 'Bob', 'age': 22}, {'name': 'Alice', 'age': 25}]\n"
     ]
    }
   ],
   "source": [
    "data = [{'name': 'Alice', 'age': 25}, {'name': 'Bob', 'age': 22}]\n",
    "\n",
    "s = input()\n",
    "\n",
    "sorted_data = sorted(data, key=lambda x: x[s])\n",
    "print(sorted_data)"
   ]
  },
  {
   "cell_type": "markdown",
   "id": "235b5614",
   "metadata": {},
   "source": [
    "                                14. Word Filtering and Sorting:"
   ]
  },
  {
   "cell_type": "code",
   "execution_count": 41,
   "id": "93d152f7",
   "metadata": {},
   "outputs": [
    {
     "name": "stdin",
     "output_type": "stream",
     "text": [
      " Rohan is not willing to go to school because he has not done his homework\n"
     ]
    },
    {
     "name": "stdout",
     "output_type": "stream",
     "text": [
      "['Rohan', 'because', 'done', 'homework', 'school', 'willing']\n"
     ]
    },
    {
     "data": {
      "image/png": "[encoded data removed]",
      "text/plain": [
       "<Figure size 640x480 with 1 Axes>"
      ]
     },
     "metadata": {},
     "output_type": "display_data"
    }
   ],
   "source": [
    "import matplotlib.pyplot as plt\n",
    "import numpy as np\n",
    "\n",
    "s = input().split(\" \")\n",
    "\n",
    "a = {}\n",
    "\n",
    "ans = []\n",
    "\n",
    "for i in s:\n",
    "    if len(i) >= 4:\n",
    "        if i not in a:\n",
    "            a[i] = len(i)\n",
    "            ans += [i]\n",
    "\n",
    "ans.sort()\n",
    "print(ans)\n",
    "\n",
    "plt.bar(a.keys(),a.values())\n",
    "plt.xlabel('Word')\n",
    "plt.ylabel('Word Length')\n",
    "plt.show()"
   ]
  },
  {
   "cell_type": "markdown",
   "id": "028c59ed",
   "metadata": {},
   "source": [
    "                                15. Anagram Finder:"
   ]
  },
  {
   "cell_type": "code",
   "execution_count": 1,
   "id": "9b86061d",
   "metadata": {},
   "outputs": [
    {
     "name": "stdout",
     "output_type": "stream",
     "text": [
      "['enlist', 'inlets']\n"
     ]
    }
   ],
   "source": [
    "def anagrams(word,words):\n",
    "    a = list(word)\n",
    "    a.sort()\n",
    "    output = []\n",
    "    for i in words:\n",
    "        b = list(i)\n",
    "        b.sort()\n",
    "        if a==b:\n",
    "            output += [i]\n",
    "    return output\n",
    "\n",
    "word = \"listen\"\n",
    "words = [\"enlist\", \"google\", \"inlets\", \"banana\"]\n",
    "print(anagrams(word,words))"
   ]
  },
  {
   "cell_type": "markdown",
   "id": "b0acc34c",
   "metadata": {},
   "source": [
    "                                16. Set Operations:"
   ]
  },
  {
   "cell_type": "code",
   "execution_count": 13,
   "id": "05607154",
   "metadata": {},
   "outputs": [
    {
     "name": "stdin",
     "output_type": "stream",
     "text": [
      " 1,2,3,4,5,6\n",
      " 2,4,7,8,9,3\n"
     ]
    },
    {
     "name": "stdout",
     "output_type": "stream",
     "text": [
      "{'2', '3', '4'}\n",
      "{'6', '1', '8', '3', '4', '5', '2', '7', '9'}\n",
      "{'6', '1', '8', '5', '7', '9'}\n"
     ]
    },
    {
     "data": {
      "image/png": "[encoded data removed]",
      "text/plain": [
       "<Figure size 640x480 with 1 Axes>"
      ]
     },
     "metadata": {},
     "output_type": "display_data"
    }
   ],
   "source": [
    "import matplotlib.pyplot as plt\n",
    "from matplotlib_venn import venn2\n",
    "\n",
    "l1 = input().split(\",\")\n",
    "l2 = input().split(\",\")\n",
    "# print(l1)\n",
    "# print(l2)\n",
    "\n",
    "l = l1 + l2\n",
    "\n",
    "s1 = set(l1)\n",
    "s2 = set(l2)\n",
    "# print(s1)\n",
    "# print(s2)\n",
    "\n",
    "m = s1.intersection(s2)\n",
    "print(m)\n",
    "\n",
    "n = s1.union(s2)\n",
    "print(n)\n",
    "\n",
    "l = s1.symmetric_difference(s2)\n",
    "print(l)\n",
    "\n",
    "venn = venn2([s1,s2])\n",
    "plt.show()"
   ]
  },
  {
   "cell_type": "markdown",
   "id": "f2d7db27",
   "metadata": {},
   "source": [
    "                                17. File Operations"
   ]
  },
  {
   "cell_type": "code",
   "execution_count": 2,
   "id": "30c7673b",
   "metadata": {},
   "outputs": [
    {
     "name": "stdout",
     "output_type": "stream",
     "text": [
      "15\n",
      "31\n"
     ]
    }
   ],
   "source": [
    "f = open(\"file.txt\",\"w\")\n",
    "\n",
    "f.write(\"[1,2,3,4,5]\\n\")\n",
    "f.write(\"[2,8,9,7,5]\\n\")\n",
    "\n",
    "f.close()\n",
    "\n",
    "f = open(\"file.txt\", \"r\")\n",
    "lines = f.readlines()\n",
    "f.close()\n",
    "\n",
    "l1 = list(map(int,lines[0].strip().strip(\"[]\").split(\",\")))\n",
    "l2 = list(map(int,lines[1].strip().strip(\"[]\").split(\",\")))\n",
    "\n",
    "print(sum(l1))\n",
    "int(sum(l2))"
   ]
  },
  {
   "cell_type": "markdown",
   "id": "d8492a99",
   "metadata": {},
   "source": [
    "                                18. Word Count and Frequency:"
   ]
  },
  {
   "cell_type": "code",
   "execution_count": 9,
   "id": "6a8ae0f5",
   "metadata": {},
   "outputs": [
    {
     "name": "stdout",
     "output_type": "stream",
     "text": [
      "i am a dancer i like to dance i am a good girl\n",
      "{'i': 3, 'am': 2, 'a': 2, 'dancer': 1, 'like': 1, 'to': 1, 'dance': 1, 'good': 1, 'girl': 1}\n"
     ]
    },
    {
     "data": {
      "image/png": "[encoded data removed]",
      "text/plain": [
       "<Figure size 640x480 with 1 Axes>"
      ]
     },
     "metadata": {},
     "output_type": "display_data"
    }
   ],
   "source": [
    "import matplotlib.pyplot as plt\n",
    "import numpy as np\n",
    "\n",
    "f = open(\"file.txt\",\"w\")\n",
    "\n",
    "f.write(\"I am a dancer. I like to dance. I am a good girl.\")\n",
    "f.close()\n",
    "\n",
    "f = open(\"file.txt\", \"r\")\n",
    "lines = str(f.readlines())\n",
    "f.close()\n",
    "\n",
    "para = lines.strip(\"[]\").strip(\"''\").replace(\".\",\"\").replace(\",\",\"\").lower()\n",
    "print(para)\n",
    "\n",
    "c = {}\n",
    "\n",
    "for i in para.split():\n",
    "        c[i] = c.get(i, 0) + 1\n",
    "print(c)\n",
    "\n",
    "plt.bar(c.keys(),c.values())\n",
    "plt.xlabel('Word')\n",
    "plt.ylabel('Word Frequency')\n",
    "plt.show()"
   ]
  },
  {
   "cell_type": "markdown",
   "id": "3b03230b",
   "metadata": {},
   "source": [
    "                                19. Random Number Generation:"
   ]
  },
  {
   "cell_type": "code",
   "execution_count": 10,
   "id": "3395f739",
   "metadata": {},
   "outputs": [
    {
     "name": "stdout",
     "output_type": "stream",
     "text": [
      "[39, 45, 8, 45, 50, 43, 20, 3, 26, 48, 17, 36, 50, 9, 19, 50, 19, 22, 16, 16, 4, 26, 20, 30, 25, 20, 28, 19, 27, 18, 28, 43, 40, 50, 15, 24, 39, 17, 45, 1, 19, 14, 9, 29, 5, 32, 27, 17, 17, 15, 34, 4, 29, 47, 44, 28, 18, 50, 33, 16, 41, 9, 1, 29, 36, 30, 11, 12, 9, 40, 47, 25, 40, 12, 45, 23, 33, 5, 47, 33, 25, 23, 11, 7, 8, 25, 26, 17, 29, 10, 28, 8, 5, 14, 31, 14, 18, 6, 22, 2]\n",
      "24.44\n"
     ]
    }
   ],
   "source": [
    "import random\n",
    "\n",
    "start = 1\n",
    "end = 50\n",
    "\n",
    "a = []\n",
    "\n",
    "for i in range(100):\n",
    "    a += [random.randint(start,end)]\n",
    "\n",
    "# print(a)\n",
    "\n",
    "with open(\"myfile\", \"w\") as f:\n",
    "    for i in a:\n",
    "        f.write(str(i)+\"\\n\")\n",
    "\n",
    "f = open(\"myfile\", \"r\")\n",
    "# print(f.read())\n",
    "\n",
    "f = open(\"myfile\", \"r\")\n",
    "lines = f.readlines()\n",
    "\n",
    "ans = []\n",
    "for i in lines:\n",
    "    i = i.strip(\"\\n\")\n",
    "    i = int(i)\n",
    "    ans += [i]\n",
    "print(ans)\n",
    "# print(len(ans))\n",
    "\n",
    "res = sum(ans)/len(ans)\n",
    "print(res)"
   ]
  },
  {
   "cell_type": "markdown",
   "id": "fd3875c2",
   "metadata": {},
   "source": [
    "                                20. CSV File Operations:"
   ]
  },
  {
   "cell_type": "code",
   "execution_count": 28,
   "id": "7f31dbb2",
   "metadata": {},
   "outputs": [
    {
     "name": "stdout",
     "output_type": "stream",
     "text": [
      "Sum of values in column 'Marks': 311.0\n"
     ]
    },
    {
     "data": {
      "image/png": "[encoded data removed]",
      "text/plain": [
       "<Figure size 1000x600 with 1 Axes>"
      ]
     },
     "metadata": {},
     "output_type": "display_data"
    }
   ],
   "source": [
    "import csv\n",
    "import matplotlib.pyplot as plt\n",
    "\n",
    "\n",
    "def read_and_sum_csv(file_path, column_name):\n",
    "    data = []\n",
    "    column_values = []\n",
    "    with open(file_path, 'r') as file:\n",
    "        reader = csv.DictReader(file)\n",
    "        for row in reader:\n",
    "            data.append(row)\n",
    "            if column_name in row:\n",
    "                column_values.append(float(row[column_name]))\n",
    "            else:\n",
    "                raise ValueError(f\"Column '{column_name}' not found in the CSV.\")\n",
    "    \n",
    "    column_sum = sum(column_values)\n",
    "    return data, column_values, column_sum\n",
    "\n",
    "\n",
    "def plot_column_values(column_values, column_name):\n",
    "    plt.figure(figsize=(10, 6))\n",
    "    plt.plot(column_values, marker='o', linestyle='-', color='b', label=column_name)\n",
    "    plt.title(f\"Line Plot of '{column_name}'\")\n",
    "    plt.xlabel(\"Index\")\n",
    "    plt.ylabel(column_name)\n",
    "    plt.legend()\n",
    "    plt.grid()\n",
    "    plt.show()\n",
    "\n",
    "# Main script\n",
    "if __name__ == \"__main__\":\n",
    "    # Example usage\n",
    "    file_path = \"psdv.csv\"  # Replace with your CSV file path\n",
    "    column_name = \"Marks\"      # Replace with the column name you want to sum and visualize\n",
    "    \n",
    "    try:\n",
    "        data, column_values, column_sum = read_and_sum_csv(file_path, column_name)\n",
    "        print(f\"Sum of values in column '{column_name}': {column_sum}\")\n",
    "        plot_column_values(column_values, column_name)\n",
    "    except Exception as e:\n",
    "        print(f\"Error: {e}\")"
   ]
  },
  {
   "cell_type": "markdown",
   "id": "157181fd",
   "metadata": {},
   "source": [
    "                                21. Basic Statistics:"
   ]
  },
  {
   "cell_type": "code",
   "execution_count": 18,
   "id": "b83f6a28",
   "metadata": {},
   "outputs": [
    {
     "name": "stdout",
     "output_type": "stream",
     "text": [
      "3.6\n",
      "4.0\n",
      "1.685229954635272\n",
      "5\n"
     ]
    },
    {
     "data": {
      "image/png": "[encoded data removed]",
      "text/plain": [
       "<Figure size 640x480 with 1 Axes>"
      ]
     },
     "metadata": {},
     "output_type": "display_data"
    }
   ],
   "source": [
    "import matplotlib.pyplot as plt\n",
    "import numpy as np\n",
    "\n",
    "\n",
    "numbers = [1,2,3,4,5,1,5,6,5,4]\n",
    "numbers.sort()\n",
    "\n",
    "mean = sum(numbers)/len(numbers)\n",
    "print(mean)              \n",
    "\n",
    "if len(numbers)%2 == 0:\n",
    "    median = int(numbers[int((len(numbers)/2)-1)] + numbers[int(len(numbers)/2)])/2\n",
    "else:\n",
    "    median = int(numbers[(int(((len(numbers)+1))/2))-1])\n",
    "print(median)\n",
    "\n",
    "# for standard deviation\n",
    "#Step 1 : Subtract the mean from each number and then square its result. Find the sum of all the results.\n",
    "sum = 0\n",
    "for i in numbers:\n",
    "    sum += (i-mean)**2\n",
    "#Step 2 : Divide the sum by total numbers in the numbers list\n",
    "b = sum/len(numbers)\n",
    "#Step 3: Find the standard deviation by taking square root\n",
    "standard_deviation = (b)**(1/2)\n",
    "print(standard_deviation)          \n",
    "\n",
    "max = 0\n",
    "mode = 0\n",
    "s  = []\n",
    "for i in numbers:\n",
    "    i = str(i)\n",
    "    s = s + [i]\n",
    "    \n",
    "for i in s:\n",
    "    m = s.count(i)\n",
    "    if m>max:\n",
    "        max = m\n",
    "        mode = i\n",
    "\n",
    "print(mode)\n",
    "\n",
    "plt.boxplot(numbers)\n",
    "\n",
    "plt.show()"
   ]
  },
  {
   "cell_type": "markdown",
   "id": "a671331a",
   "metadata": {},
   "source": [
    "                                22. Normalization:"
   ]
  },
  {
   "cell_type": "code",
   "execution_count": 4,
   "id": "270e13dc",
   "metadata": {},
   "outputs": [
    {
     "name": "stdout",
     "output_type": "stream",
     "text": [
      "[0.0, 0.0625, 0.125, 0.25, 0.375, 1.0]\n"
     ]
    },
    {
     "data": {
      "image/png": "[encoded data removed]",
      "text/plain": [
       "<Figure size 640x480 with 1 Axes>"
      ]
     },
     "metadata": {},
     "output_type": "display_data"
    }
   ],
   "source": [
    "import matplotlib.pyplot as plt\n",
    "\n",
    "def normalize(k):\n",
    "    if k == []:\n",
    "        return k\n",
    "\n",
    "    a = min(k)        #minimum value        \n",
    "    b = max(k)        #maximum value\n",
    "\n",
    "    if a == b:\n",
    "        return [0.5 for i in k]\n",
    "\n",
    "    else:\n",
    "        return [(i - a)/(b-a) for i in k]\n",
    "\n",
    "k = [20,25,30,40,50,100]\n",
    "\n",
    "normalized = normalize(k)\n",
    "print(normalized)\n",
    "\n",
    "plt.plot(normalized, label = \"Normalized Data\")\n",
    "plt.show()"
   ]
  },
  {
   "cell_type": "markdown",
   "id": "af653a88",
   "metadata": {},
   "source": [
    "                                23. Even or Odd:"
   ]
  },
  {
   "cell_type": "code",
   "execution_count": 15,
   "id": "a27c8827",
   "metadata": {},
   "outputs": [
    {
     "name": "stdin",
     "output_type": "stream",
     "text": [
      " 88\n"
     ]
    },
    {
     "name": "stdout",
     "output_type": "stream",
     "text": [
      "88 is even\n"
     ]
    }
   ],
   "source": [
    "num = int(input())\n",
    "\n",
    "if num % 2 == 0:\n",
    "    print(f\"{num} is even\")\n",
    "\n",
    "else:\n",
    "    print(f\"{num} is odd\")"
   ]
  },
  {
   "cell_type": "markdown",
   "id": "e456e966",
   "metadata": {},
   "source": [
    "                                24. Grade Calculator:"
   ]
  },
  {
   "cell_type": "code",
   "execution_count": 16,
   "id": "04e9aba4",
   "metadata": {},
   "outputs": [
    {
     "name": "stdin",
     "output_type": "stream",
     "text": [
      " 80\n"
     ]
    },
    {
     "name": "stdout",
     "output_type": "stream",
     "text": [
      "Grade : B\n"
     ]
    }
   ],
   "source": [
    "marks = int(input())\n",
    "\n",
    "if 0 <= marks < 35:\n",
    "    print(\"Grade : F\")\n",
    "elif 35 <= marks <= 50:\n",
    "    print(\"Grade : D\")\n",
    "elif 50 < marks <= 70:\n",
    "    print(\"Grade : C\")\n",
    "elif 70 < marks <= 80:\n",
    "    print(\"Grade : B\")\n",
    "elif 80 < marks <= 100:\n",
    "    print(\"Grade : A\")"
   ]
  },
  {
   "cell_type": "markdown",
   "id": "4095147c",
   "metadata": {},
   "source": [
    "                                25. Leap Year Checker:"
   ]
  },
  {
   "cell_type": "code",
   "execution_count": 19,
   "id": "10371423",
   "metadata": {},
   "outputs": [
    {
     "name": "stdin",
     "output_type": "stream",
     "text": [
      " 2000\n"
     ]
    },
    {
     "name": "stdout",
     "output_type": "stream",
     "text": [
      "2000 is a leap year\n"
     ]
    }
   ],
   "source": [
    "year = int(input())\n",
    "\n",
    "if (((year % 4 == 0) and (year % 100 != 0)) or (year % 400 == 0)):\n",
    "    print(f\"{year} is a leap year\")\n",
    "\n",
    "else:\n",
    "    print(f\"{year} is not a leap year\")"
   ]
  }
 ],
 "metadata": {
  "kernelspec": {
   "display_name": "Python 3 (ipykernel)",
   "language": "python",
   "name": "python3"
  },
  "language_info": {
   "codemirror_mode": {
    "name": "ipython",
    "version": 3
   },
   "file_extension": ".py",
   "mimetype": "text/x-python",
   "name": "python",
   "nbconvert_exporter": "python",
   "pygments_lexer": "ipython3",
   "version": "3.12.7"
  }
 },
 "nbformat": 4,
 "nbformat_minor": 5
}
